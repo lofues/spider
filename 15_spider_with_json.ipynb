{
 "cells": [
  {
   "cell_type": "raw",
   "metadata": {},
   "source": [
    "爬虫最常用:\n",
    "    1、数据抓取 - json.loads(html)\n",
    "        将响应内容由: json 转为 python\n",
    "    2、数据保存 - json.dump(item_list,f,ensure_ascii=False)\n",
    "        将抓取的数据保存到本地 json文件"
   ]
  },
  {
   "cell_type": "code",
   "execution_count": 3,
   "metadata": {},
   "outputs": [],
   "source": [
    "import json\n",
    "\n",
    "# 把列表或字典保存到json文件中\n",
    "d = {'app':'微信','link':'www.weixin.com'}\n",
    "with open('app.json','w') as f:\n",
    "    json.dump(d,f,ensure_ascii=False)"
   ]
  }
 ],
 "metadata": {
  "kernelspec": {
   "display_name": "Python 3",
   "language": "python",
   "name": "python3"
  },
  "language_info": {
   "codemirror_mode": {
    "name": "ipython",
    "version": 3
   },
   "file_extension": ".py",
   "mimetype": "text/x-python",
   "name": "python",
   "nbconvert_exporter": "python",
   "pygments_lexer": "ipython3",
   "version": "3.6.8"
  }
 },
 "nbformat": 4,
 "nbformat_minor": 2
}
