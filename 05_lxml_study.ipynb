{
 "cells": [
  {
   "cell_type": "code",
   "execution_count": 11,
   "metadata": {},
   "outputs": [
    {
     "name": "stdout",
     "output_type": "stream",
     "text": [
      "['国内', '国际', '军事', '图片', '社会', '娱乐', '科技', '体育', '财经', '汽车']\n",
      "['http://domestic.sina.com/', 'http://world.sina.com/', 'http://mil.sina.com/', 'http://photo.sina.com/', 'http://society.sina.com/', 'http://ent.sina.com/', 'http://tech.sina.com/', 'http://sports.sina.com/', 'http://finance.sina.com/', 'http://auto.sina.com/']\n"
     ]
    }
   ],
   "source": [
    "from lxml import etree\n",
    "\n",
    "html = \"\"\"\n",
    "<div class=\"wrapper\">\n",
    "<a href=\"/\" id=\"channel\">新浪社会</a>\n",
    "<ul id=\"nav\">\n",
    "<li><a href=\"http://domestic.sina.com/\" title=\"国内\">国内</a></li>\n",
    "<li><a href=\"http://world.sina.com/\" title=\"国际\">国际</a></li>\n",
    "<li><a href=\"http://mil.sina.com/\" title=\"军事\">军事</a></li>\n",
    "<li><a href=\"http://photo.sina.com/\" title=\"图片\">图片</a></li>\n",
    "<li><a href=\"http://society.sina.com/\" title=\"社会\">社会</a></li>\n",
    "<li><a href=\"http://ent.sina.com/\" title=\"娱乐\">娱乐</a></li>\n",
    "<li><a href=\"http://tech.sina.com/\" title=\"科技\">科技</a></li>\n",
    "<li><a href=\"http://sports.sina.com/\" title=\"体育\">体育</a></li>\n",
    "<li><a href=\"http://finance.sina.com/\" title=\"财经\">财经</a></li>\n",
    "<li><a href=\"http://auto.sina.com/\" title=\"汽车\">汽车</a></li>\n",
    "</ul>\n",
    "</div>\"\"\"\n",
    "\n",
    "parse_html = etree.HTML(html)\n",
    "xpath_bds1 = '//ul[@id=\"nav\"]/li/a/@href'\n",
    "xpath_bds2 = '//ul[@id=\"nav\"]/li/a/@title'\n",
    "href_list = parse_html.xpath(xpath_bds1)\n",
    "title_list = parse_html.xpath(xpath_bds2)\n",
    "print(title_list)\n",
    "print(href_list)\n"
   ]
  },
  {
   "cell_type": "code",
   "execution_count": 18,
   "metadata": {},
   "outputs": [
    {
     "name": "stdout",
     "output_type": "stream",
     "text": [
      "['霸王别姬'] ['\\n                主演：张国荣,张丰毅,巩俐\\n        '] ['上映时间：1993-01-01']\n",
      "['肖申克的救赎'] ['\\n                主演：蒂姆·罗宾斯,摩根·弗里曼,鲍勃·冈顿\\n        '] ['上映时间：1994-09-10(加拿大)']\n",
      "['罗马假日'] ['\\n                主演：格利高里·派克,奥黛丽·赫本,埃迪·艾伯特\\n        '] ['上映时间：1953-09-02(美国)']\n",
      "['这个杀手不太冷'] ['\\n                主演：让·雷诺,加里·奥德曼,娜塔莉·波特曼\\n        '] ['上映时间：1994-09-14(法国)']\n",
      "['泰坦尼克号'] ['\\n                主演：莱昂纳多·迪卡普里奥,凯特·温丝莱特,比利·赞恩\\n        '] ['上映时间：1998-04-03']\n",
      "['唐伯虎点秋香'] ['\\n                主演：周星驰,巩俐,郑佩佩\\n        '] ['上映时间：1993-07-01(中国香港)']\n",
      "['魂断蓝桥'] ['\\n                主演：费雯·丽,罗伯特·泰勒,露塞尔·沃特森\\n        '] ['上映时间：1940-05-17(美国)']\n",
      "['乱世佳人'] ['\\n                主演：费雯·丽,克拉克·盖博,奥利维娅·德哈维兰\\n        '] ['上映时间：1939-12-15(美国)']\n",
      "['天空之城'] ['\\n                主演：寺田农,鹫尾真知子,龟山助清\\n        '] ['上映时间：1992-05-01']\n",
      "['辛德勒的名单'] ['\\n                主演：连姆·尼森,拉尔夫·费因斯,本·金斯利\\n        '] ['上映时间：1993-12-15(美国)']\n"
     ]
    }
   ],
   "source": [
    "import requests\n",
    "from fake_useragent import UserAgent\n",
    "from lxml import etree \n",
    "\n",
    "ua = UserAgent()\n",
    "\n",
    "class MaoyanSpider(object):\n",
    "    def __init__(self):\n",
    "        self.url = 'https://maoyan.com/board/4'\n",
    "        self.headers = {'User-Agent':ua.random}\n",
    "        \n",
    "    def save_html(self):\n",
    "        html = requests.get(url=self.url,headers=self.headers).text\n",
    "        # 解析\n",
    "        parse_html = etree.HTML(html)\n",
    "        # 基准xpath,大的节点对象列表\n",
    "        dd_list = parse_html.xpath('//dl[@class=\"board-wrapper\"]/dd')\n",
    "        item = {}\n",
    "        for dd in dd_list:\n",
    "            name = dd.xpath('.//p[@class=\"name\"]/a/@title')\n",
    "            star = dd.xpath('.//p[@class=\"star\"]/text()')\n",
    "            time = dd.xpath('.//p[@class=\"releasetime\"]/text()')\n",
    "            print(name,star,time)\n",
    "            item['name'] = name[0].strip()\n",
    "            item['star'] = star[0].strip()\n",
    "            item['time'] = time[0].strip()\n",
    "        \n",
    "    def run(self):\n",
    "        self.save_html()\n",
    "\n",
    "spider = MaoyanSpider()\n",
    "spider.run()"
   ]
  }
 ],
 "metadata": {
  "kernelspec": {
   "display_name": "Python 3",
   "language": "python",
   "name": "python3"
  },
  "language_info": {
   "codemirror_mode": {
    "name": "ipython",
    "version": 3
   },
   "file_extension": ".py",
   "mimetype": "text/x-python",
   "name": "python",
   "nbconvert_exporter": "python",
   "pygments_lexer": "ipython3",
   "version": "3.6.8"
  }
 },
 "nbformat": 4,
 "nbformat_minor": 2
}
