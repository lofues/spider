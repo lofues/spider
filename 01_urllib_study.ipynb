{
 "cells": [
  {
   "cell_type": "markdown",
   "metadata": {},
   "source": [
    "## urllib 演示"
   ]
  },
  {
   "cell_type": "markdown",
   "metadata": {},
   "source": [
    "### 测试urlopen：向百度发送请求，并得到响应"
   ]
  },
  {
   "cell_type": "code",
   "execution_count": 1,
   "metadata": {},
   "outputs": [],
   "source": [
    "import urllib.request as request"
   ]
  },
  {
   "cell_type": "code",
   "execution_count": 2,
   "metadata": {},
   "outputs": [
    {
     "name": "stdout",
     "output_type": "stream",
     "text": [
      "http://www.baidu.com/\n",
      "200\n"
     ]
    }
   ],
   "source": [
    "# 得到：响应对象\n",
    "response = request.urlopen('http://www.baidu.com/')\n",
    "\n",
    "# 获取响应内容,html源码\n",
    "html = response.read().decode()\n",
    "\n",
    "# 打印响应内容\n",
    "# print(html)\n",
    "\n",
    "print(response.geturl())\n",
    "\n",
    "print(response.getcode())"
   ]
  },
  {
   "cell_type": "markdown",
   "metadata": {},
   "source": [
    "### 非人的请求user-agent:请求测试网站"
   ]
  },
  {
   "cell_type": "code",
   "execution_count": 3,
   "metadata": {
    "collapsed": true
   },
   "outputs": [
    {
     "name": "stdout",
     "output_type": "stream",
     "text": [
      "{\n",
      "  \"args\": {}, \n",
      "  \"headers\": {\n",
      "    \"Accept-Encoding\": \"identity\", \n",
      "    \"Host\": \"httpbin.org\", \n",
      "    \"User-Agent\": \"Python-urllib/3.6\"\n",
      "  }, \n",
      "  \"origin\": \"43.254.90.134, 43.254.90.134\", \n",
      "  \"url\": \"https://httpbin.org/get\"\n",
      "}\n",
      "\n"
     ]
    }
   ],
   "source": [
    "# User-Agent 为python\n",
    "res_1 = request.urlopen('http://httpbin.org/get')\n",
    "print(res_1.read().decode())"
   ]
  },
  {
   "cell_type": "markdown",
   "metadata": {},
   "source": [
    "### 伪造人为的请求 修改user-agent头字段"
   ]
  },
  {
   "cell_type": "code",
   "execution_count": 4,
   "metadata": {
    "collapsed": true
   },
   "outputs": [
    {
     "name": "stdout",
     "output_type": "stream",
     "text": [
      "{\n",
      "  \"args\": {}, \n",
      "  \"headers\": {\n",
      "    \"Accept-Encoding\": \"identity\", \n",
      "    \"Host\": \"httpbin.org\", \n",
      "    \"User-Agent\": \"Mozilla/5.0\"\n",
      "  }, \n",
      "  \"origin\": \"43.254.90.134, 43.254.90.134\", \n",
      "  \"url\": \"https://httpbin.org/get\"\n",
      "}\n",
      "\n"
     ]
    }
   ],
   "source": [
    "url = 'http://httpbin.org/get'\n",
    "\n",
    "# 1,创造请求对象\n",
    "req = request.Request(\n",
    "---第33页正在抓取---\n",
    "---第33页抓取成功\n",
    "---第34页正在抓取---\n",
    "---第34页抓取成功\n",
    "---第35页正在抓取---\n",
    "---第35页抓取成功\n",
    "---第36页正在抓取---\n",
    "    url=url,\n",
    "    headers={'User-Agent':'Mozilla/5.0'}\n",
    ")\n",
    "\n",
    "# 2,发请求获取响应对象\n",
    "res = request.urlopen(req)\n",
    "\n",
    "# 3,提取相应对象内容\n",
    "print(res.read().decode())"
   ]
  },
  {
   "cell_type": "markdown",
   "metadata": {},
   "source": [
    "### url 地址编码模块urllib.parse 演示："
   ]
  },
  {
   "cell_type": "code",
   "execution_count": 8,
   "metadata": {},
   "outputs": [],
   "source": [
    "import urllib"
   ]
  },
  {
   "cell_type": "code",
   "execution_count": 22,
   "metadata": {},
   "outputs": [],
   "source": [
    "# 将搜索的内容保存到本地文件\n",
    "\n",
    "# 拼url地址 urlencode: 将查询字典转换为编码后的请求字符串\n",
    "url = 'https://baidu.com/s?{}'\n",
    "params = {\n",
    "    'wd':'赵丽颖',\n",
    "}\n",
    "params = urllib.parse.urlencode(params)\n",
    "full_url = url.format(params)\n",
    "\n",
    "# 1.创建请求对象 Request\n",
    "req = urllib.request.Request(\n",
    "    url=full_url,\n",
    "    headers={\n",
    "        'User-Agent':'Mozilla/5.0'\n",
    "    }\n",
    ")\n",
    "\n",
    "# 2.获取响应对象 urlopen\n",
    "res = urllib.request.urlopen(req)\n",
    "\n",
    "# 3.获取响应内容 read()\n",
    "html = res.read().decode()\n",
    "with open('赵丽颖.html','w',encoding='utf8') as f_write:\n",
    "    f_write.write(html)"
   ]
  },
  {
   "cell_type": "code",
   "execution_count": 29,
   "metadata": {},
   "outputs": [],
   "source": [
    "# 使用quote拼接\n",
    "url = 'http://www.baidu.com/s?wd={}&pn={}'\n",
    "params = (urllib.parse.quote('赵丽颖'),10)\n",
    "full_url = url.format(params[0],params[1])\n",
    "\n",
    "# 人为修改请求对象\n",
    "req = urllib.request.Request(\n",
    "    url=full_url,\n",
    "    headers={\n",
    "        'User-Agent':'Morilla/5.0'\n",
    "    }\n",
    ")\n",
    "\n",
    "# 获取响应对象\n",
    "res = urllib.request.urlopen(req)\n",
    "\n",
    "# 读取数据到文件\n",
    "html = res.read().decode()\n",
    "with open('赵丽颖.html','w') as f:\n",
    "    f.write(html)"
   ]
  },
  {
   "cell_type": "code",
   "execution_count": 32,
   "metadata": {},
   "outputs": [
    {
     "name": "stdout",
     "output_type": "stream",
     "text": [
      "%E8%BF%AA%E4%B8%BD%E7%83%AD%E5%B7%B4\n",
      "迪丽热巴\n"
     ]
    }
   ],
   "source": [
    "# quote 和 unquote\n",
    "string = '迪丽热巴'\n",
    "string_quote = urllib.parse.quote(string)\n",
    "print(string_quote)\n",
    "string = urllib.parse.unquote(string_quote)\n",
    "print(string)"
   ]
  },
  {
   "cell_type": "markdown",
   "metadata": {},
   "source": [
    "### 抓取百度贴吧50页的数据 并对比单线程 多进程 多线程的效率"
   ]
  },
  {
   "cell_type": "markdown",
   "metadata": {},
   "source": [
    "### 效率对比： 单线程：50s    多线程：10s    多进程：8s"
   ]
  },
  {
   "cell_type": "code",
   "execution_count": 1,
   "metadata": {
    "collapsed": true
   },
   "outputs": [
    {
     "ename": "KeyboardInterrupt",
     "evalue": "",
     "output_type": "error",
     "traceback": [
      "\u001b[0;31m---------------------------------------------------------------------------\u001b[0m",
      "\u001b[0;31mKeyboardInterrupt\u001b[0m                         Traceback (most recent call last)",
      "\u001b[0;32m~/.local/lib/python3.6/site-packages/ipykernel/kernelbase.py\u001b[0m in \u001b[0;36m_input_request\u001b[0;34m(self, prompt, ident, parent, password)\u001b[0m\n\u001b[1;32m    884\u001b[0m             \u001b[0;32mtry\u001b[0m\u001b[0;34m:\u001b[0m\u001b[0;34m\u001b[0m\u001b[0;34m\u001b[0m\u001b[0m\n\u001b[0;32m--> 885\u001b[0;31m                 \u001b[0mident\u001b[0m\u001b[0;34m,\u001b[0m \u001b[0mreply\u001b[0m \u001b[0;34m=\u001b[0m \u001b[0mself\u001b[0m\u001b[0;34m.\u001b[0m\u001b[0msession\u001b[0m\u001b[0;34m.\u001b[0m\u001b[0mrecv\u001b[0m\u001b[0;34m(\u001b[0m\u001b[0mself\u001b[0m\u001b[0;34m.\u001b[0m\u001b[0mstdin_socket\u001b[0m\u001b[0;34m,\u001b[0m \u001b[0;36m0\u001b[0m\u001b[0;34m)\u001b[0m\u001b[0;34m\u001b[0m\u001b[0;34m\u001b[0m\u001b[0m\n\u001b[0m\u001b[1;32m    886\u001b[0m             \u001b[0;32mexcept\u001b[0m \u001b[0mException\u001b[0m\u001b[0;34m:\u001b[0m\u001b[0;34m\u001b[0m\u001b[0;34m\u001b[0m\u001b[0m\n",
      "\u001b[0;32m~/.local/lib/python3.6/site-packages/jupyter_client/session.py\u001b[0m in \u001b[0;36mrecv\u001b[0;34m(self, socket, mode, content, copy)\u001b[0m\n\u001b[1;32m    802\u001b[0m         \u001b[0;32mtry\u001b[0m\u001b[0;34m:\u001b[0m\u001b[0;34m\u001b[0m\u001b[0;34m\u001b[0m\u001b[0m\n\u001b[0;32m--> 803\u001b[0;31m             \u001b[0mmsg_list\u001b[0m \u001b[0;34m=\u001b[0m \u001b[0msocket\u001b[0m\u001b[0;34m.\u001b[0m\u001b[0mrecv_multipart\u001b[0m\u001b[0;34m(\u001b[0m\u001b[0mmode\u001b[0m\u001b[0;34m,\u001b[0m \u001b[0mcopy\u001b[0m\u001b[0;34m=\u001b[0m\u001b[0mcopy\u001b[0m\u001b[0;34m)\u001b[0m\u001b[0;34m\u001b[0m\u001b[0;34m\u001b[0m\u001b[0m\n\u001b[0m\u001b[1;32m    804\u001b[0m         \u001b[0;32mexcept\u001b[0m \u001b[0mzmq\u001b[0m\u001b[0;34m.\u001b[0m\u001b[0mZMQError\u001b[0m \u001b[0;32mas\u001b[0m \u001b[0me\u001b[0m\u001b[0;34m:\u001b[0m\u001b[0;34m\u001b[0m\u001b[0;34m\u001b[0m\u001b[0m\n",
      "\u001b[0;32m~/.local/lib/python3.6/site-packages/zmq/sugar/socket.py\u001b[0m in \u001b[0;36mrecv_multipart\u001b[0;34m(self, flags, copy, track)\u001b[0m\n\u001b[1;32m    474\u001b[0m         \"\"\"\n\u001b[0;32m--> 475\u001b[0;31m         \u001b[0mparts\u001b[0m \u001b[0;34m=\u001b[0m \u001b[0;34m[\u001b[0m\u001b[0mself\u001b[0m\u001b[0;34m.\u001b[0m\u001b[0mrecv\u001b[0m\u001b[0;34m(\u001b[0m\u001b[0mflags\u001b[0m\u001b[0;34m,\u001b[0m \u001b[0mcopy\u001b[0m\u001b[0;34m=\u001b[0m\u001b[0mcopy\u001b[0m\u001b[0;34m,\u001b[0m \u001b[0mtrack\u001b[0m\u001b[0;34m=\u001b[0m\u001b[0mtrack\u001b[0m\u001b[0;34m)\u001b[0m\u001b[0;34m]\u001b[0m\u001b[0;34m\u001b[0m\u001b[0;34m\u001b[0m\u001b[0m\n\u001b[0m\u001b[1;32m    476\u001b[0m         \u001b[0;31m# have first part already, only loop while more to receive\u001b[0m\u001b[0;34m\u001b[0m\u001b[0;34m\u001b[0m\u001b[0;34m\u001b[0m\u001b[0m\n",
      "\u001b[0;32mzmq/backend/cython/socket.pyx\u001b[0m in \u001b[0;36mzmq.backend.cython.socket.Socket.recv\u001b[0;34m()\u001b[0m\n",
      "\u001b[0;32mzmq/backend/cython/socket.pyx\u001b[0m in \u001b[0;36mzmq.backend.cython.socket.Socket.recv\u001b[0;34m()\u001b[0m\n",
      "\u001b[0;32mzmq/backend/cython/socket.pyx\u001b[0m in \u001b[0;36mzmq.backend.cython.socket._recv_copy\u001b[0;34m()\u001b[0m\n",
      "\u001b[0;32m~/.local/lib/python3.6/site-packages/zmq/backend/cython/checkrc.pxd\u001b[0m in \u001b[0;36mzmq.backend.cython.checkrc._check_rc\u001b[0;34m()\u001b[0m\n",
      "\u001b[0;31mKeyboardInterrupt\u001b[0m: ",
      "\nDuring handling of the above exception, another exception occurred:\n",
      "\u001b[0;31mKeyboardInterrupt\u001b[0m                         Traceback (most recent call last)",
      "\u001b[0;32m<ipython-input-1-98a157c0b39a>\u001b[0m in \u001b[0;36m<module>\u001b[0;34m\u001b[0m\n\u001b[1;32m      6\u001b[0m \u001b[0mstart\u001b[0m \u001b[0;34m=\u001b[0m \u001b[0mtime\u001b[0m\u001b[0;34m.\u001b[0m\u001b[0mtime\u001b[0m\u001b[0;34m(\u001b[0m\u001b[0;34m)\u001b[0m\u001b[0;34m\u001b[0m\u001b[0;34m\u001b[0m\u001b[0m\n\u001b[1;32m      7\u001b[0m \u001b[0murl\u001b[0m \u001b[0;34m=\u001b[0m \u001b[0;34m'http://tieba.baidu.com/f?kw={}&pn={}'\u001b[0m\u001b[0;34m\u001b[0m\u001b[0;34m\u001b[0m\u001b[0m\n\u001b[0;32m----> 8\u001b[0;31m \u001b[0mname\u001b[0m \u001b[0;34m=\u001b[0m \u001b[0minput\u001b[0m\u001b[0;34m(\u001b[0m\u001b[0;34m'请输入你要爬取的贴吧名称：'\u001b[0m\u001b[0;34m)\u001b[0m\u001b[0;34m\u001b[0m\u001b[0;34m\u001b[0m\u001b[0m\n\u001b[0m\u001b[1;32m      9\u001b[0m \u001b[0mname_quote\u001b[0m \u001b[0;34m=\u001b[0m \u001b[0murllib\u001b[0m\u001b[0;34m.\u001b[0m\u001b[0mparse\u001b[0m\u001b[0;34m.\u001b[0m\u001b[0mquote\u001b[0m\u001b[0;34m(\u001b[0m\u001b[0mname\u001b[0m\u001b[0;34m)\u001b[0m\u001b[0;34m\u001b[0m\u001b[0;34m\u001b[0m\u001b[0m\n\u001b[1;32m     10\u001b[0m \u001b[0;34m\u001b[0m\u001b[0m\n",
      "\u001b[0;32m~/.local/lib/python3.6/site-packages/ipykernel/kernelbase.py\u001b[0m in \u001b[0;36mraw_input\u001b[0;34m(self, prompt)\u001b[0m\n\u001b[1;32m    858\u001b[0m             \u001b[0mself\u001b[0m\u001b[0;34m.\u001b[0m\u001b[0m_parent_ident\u001b[0m\u001b[0;34m,\u001b[0m\u001b[0;34m\u001b[0m\u001b[0;34m\u001b[0m\u001b[0m\n\u001b[1;32m    859\u001b[0m             \u001b[0mself\u001b[0m\u001b[0;34m.\u001b[0m\u001b[0m_parent_header\u001b[0m\u001b[0;34m,\u001b[0m\u001b[0;34m\u001b[0m\u001b[0;34m\u001b[0m\u001b[0m\n\u001b[0;32m--> 860\u001b[0;31m             \u001b[0mpassword\u001b[0m\u001b[0;34m=\u001b[0m\u001b[0;32mFalse\u001b[0m\u001b[0;34m,\u001b[0m\u001b[0;34m\u001b[0m\u001b[0;34m\u001b[0m\u001b[0m\n\u001b[0m\u001b[1;32m    861\u001b[0m         )\n\u001b[1;32m    862\u001b[0m \u001b[0;34m\u001b[0m\u001b[0m\n",
      "\u001b[0;32m~/.local/lib/python3.6/site-packages/ipykernel/kernelbase.py\u001b[0m in \u001b[0;36m_input_request\u001b[0;34m(self, prompt, ident, parent, password)\u001b[0m\n\u001b[1;32m    888\u001b[0m             \u001b[0;32mexcept\u001b[0m \u001b[0mKeyboardInterrupt\u001b[0m\u001b[0;34m:\u001b[0m\u001b[0;34m\u001b[0m\u001b[0;34m\u001b[0m\u001b[0m\n\u001b[1;32m    889\u001b[0m                 \u001b[0;31m# re-raise KeyboardInterrupt, to truncate traceback\u001b[0m\u001b[0;34m\u001b[0m\u001b[0;34m\u001b[0m\u001b[0;34m\u001b[0m\u001b[0m\n\u001b[0;32m--> 890\u001b[0;31m                 \u001b[0;32mraise\u001b[0m \u001b[0mKeyboardInterrupt\u001b[0m\u001b[0;34m\u001b[0m\u001b[0;34m\u001b[0m\u001b[0m\n\u001b[0m\u001b[1;32m    891\u001b[0m             \u001b[0;32melse\u001b[0m\u001b[0;34m:\u001b[0m\u001b[0;34m\u001b[0m\u001b[0;34m\u001b[0m\u001b[0m\n\u001b[1;32m    892\u001b[0m                 \u001b[0;32mbreak\u001b[0m\u001b[0;34m\u001b[0m\u001b[0;34m\u001b[0m\u001b[0m\n",
      "\u001b[0;31mKeyboardInterrupt\u001b[0m: "
     ]
    }
   ],
   "source": [
    "# 使用单线程爬取50页\n",
    "import time\n",
    "# 首先确认是否是静态页面不是动态js请求的\n",
    "start = time.time()\n",
    "url = 'http://tieba.baidu.com/f?kw={}&pn={}'\n",
    "name = input('请输入你要爬取的贴吧名称：')\n",
    "name_quote = urllib.parse.quote(name)\n",
    "\n",
    "url_list = []\n",
    "for i in range(50):\n",
    "    num = i * 50\n",
    "    full_url = url.format(name_quote,str(num))\n",
    "    url_list.append(full_url)\n",
    "    \n",
    "# 人为仿造请求对象并返回数据保存  使用单线程实现\n",
    "for i,true_url in enumerate(url_list):\n",
    "    print('---第{}页正在抓取---'.format(i+1))\n",
    "    req = urllib.request.Request(\n",
    "        url=true_url,\n",
    "        headers={\n",
    "            'User-Agent':'Mozilla/5.0 (Windows NT 6.1; WOW64) AppleWebKit/535.1 (KHTML, like Gecko) Chrome/14.0.835.163 Safari/535.1'\n",
    "        }\n",
    "    )\n",
    "    res = urllib.request.urlopen(req)\n",
    "    html = res.read().decode()\n",
    "    with open('{}_{}.html'.format(name,i+1),'w') as f:\n",
    "        f.write(html)\n",
    "    print('---第{}页抓取成功---'.format(i+1))\n",
    "\n",
    "end = time.time()\n",
    "print('执行时间为:%.2f' % (end-start))"
   ]
  },
  {
   "cell_type": "code",
   "execution_count": 44,
   "metadata": {
    "collapsed": true
   },
   "outputs": [
    {
     "name": "stdout",
     "output_type": "stream",
     "text": [
      "请输入你要爬取的贴吧名称：迪丽热巴\n",
      "---第1页正在抓取---\n",
      "---第2页正在抓取---\n",
      "---第3页正在抓取---\n",
      "---第4页正在抓取---\n",
      "---第5页正在抓取---\n",
      "---第6页正在抓取---\n",
      "---第7页正在抓取---\n",
      "---第8页正在抓取---\n",
      "---第9页正在抓取---\n",
      "---第10页正在抓取---\n",
      "---第11页正在抓取---\n",
      "---第12页正在抓取---\n",
      "---第13页正在抓取---\n",
      "---第14页正在抓取---\n",
      "---第15页正在抓取---\n",
      "---第16页正在抓取---\n",
      "---第17页正在抓取---\n",
      "---第18页正在抓取---\n",
      "---第19页正在抓取---\n",
      "---第20页正在抓取---\n",
      "---第21页正在抓取---\n",
      "---第22页正在抓取---\n",
      "---第23页正在抓取---\n",
      "---第24页正在抓取---\n",
      "---第25页正在抓取---\n",
      "---第26页正在抓取---\n",
      "---第27页正在抓取---\n",
      "---第28页正在抓取---\n",
      "---第29页正在抓取---\n",
      "---第30页正在抓取---\n",
      "---第31页正在抓取---\n",
      "---第32页正在抓取---\n",
      "---第33页正在抓取---\n",
      "---第34页正在抓取---\n",
      "---第35页正在抓取---\n",
      "---第36页正在抓取---\n",
      "---第37页正在抓取---\n",
      "---第38页正在抓取---\n",
      "---第39页正在抓取---\n",
      "---第40页正在抓取---\n",
      "---第41页正在抓取---\n",
      "---第42页正在抓取---\n",
      "---第43页正在抓取---\n",
      "---第44页正在抓取---\n",
      "---第45页正在抓取---\n",
      "---第46页正在抓取---\n",
      "---第47页正在抓取---\n",
      "---第48页正在抓取---\n",
      "---第49页正在抓取---\n",
      "---第50页正在抓取---\n",
      "---第47页抓取成功---\n",
      "---第30页抓取成功---\n",
      "---第17页抓取成功---\n",
      "---第25页抓取成功---\n",
      "---第40页抓取成功---\n",
      "---第45页抓取成功---\n",
      "---第41页抓取成功------第27页抓取成功---\n",
      "\n",
      "---第10页抓取成功---\n",
      "---第34页抓取成功---\n",
      "---第11页抓取成功---\n",
      "---第4页抓取成功---\n",
      "---第3页抓取成功---\n",
      "---第15页抓取成功---\n",
      "---第5页抓取成功---\n",
      "---第22页抓取成功---\n",
      "---第20页抓取成功---\n",
      "---第50页抓取成功---\n",
      "---第1页抓取成功---\n",
      "---第43页抓取成功---\n",
      "---第2页抓取成功---\n",
      "---第16页抓取成功---\n",
      "---第36页抓取成功---\n",
      "---第7页抓取成功---\n",
      "---第12页抓取成功---\n",
      "---第29页抓取成功---\n",
      "---第28页抓取成功---\n",
      "---第13页抓取成功---\n",
      "---第39页抓取成功---\n",
      "---第42页抓取成功---\n",
      "---第8页抓取成功---\n",
      "---第38页抓取成功---\n",
      "---第31页抓取成功---\n",
      "---第46页抓取成功---\n",
      "---第33页抓取成功---\n",
      "---第26页抓取成功---\n",
      "---第14页抓取成功---\n",
      "---第37页抓取成功---\n",
      "---第19页抓取成功---\n",
      "---第21页抓取成功---\n",
      "---第9页抓取成功---\n",
      "---第49页抓取成功---\n",
      "---第23页抓取成功---\n",
      "---第24页抓取成功---\n",
      "---第44页抓取成功---\n",
      "---第32页抓取成功---\n",
      "---第18页抓取成功---\n",
      "---第6页抓取成功---\n",
      "---第48页抓取成功---\n",
      "---第35页抓取成功---\n",
      "执行时间为:9.72\n"
     ]
    }
   ],
   "source": [
    "# 使用多线程爬取50页\n",
    "import time\n",
    "import threading\n",
    "# 首先确认是否是静态页面不是动态js请求的\n",
    "start = time.time()\n",
    "url = 'http://tieba.baidu.com/f?kw={}&pn={}'\n",
    "name = input('请输入你要爬取的贴吧名称：')\n",
    "name_quote = urllib.parse.quote(name)\n",
    "\n",
    "url_list = []\n",
    "for i in range(50):\n",
    "    num = i * 50\n",
    "    full_url = url.format(name_quote,str(num))\n",
    "    url_list.append(full_url)\n",
    "    \n",
    "# 编写线程的target函数\n",
    "def tieba_spider(url,name,num):\n",
    "    req = urllib.request.Request(\n",
    "        url=url,\n",
    "        headers={\n",
    "            'User-Agent':'Mozilla/5.0 (Windows NT 6.1; WOW64) AppleWebKit/535.1 (KHTML, like Gecko) Chrome/14.0.835.163 Safari/535.1'\n",
    "        }\n",
    "    )\n",
    "    res = urllib.request.urlopen(req)\n",
    "    html = res.read().decode()\n",
    "    with open('{}_{}.html'.format(name,num),'w') as f:\n",
    "        f.write(html)\n",
    "    print('---第{}页抓取成功---'.format(num))\n",
    "    \n",
    "\n",
    "# 人为仿造请求对象并返回数据保存  使用多线程实现\n",
    "t_list = []\n",
    "for i,true_url in enumerate(url_list):\n",
    "    print('---第{}页正在抓取---'.format(i+1))\n",
    "    t = threading.Thread(target=tieba_spider, args=(true_url,name,i+1))\n",
    "    t_list.append(t)\n",
    "    t.start()\n",
    "    \n",
    "\n",
    "for thread in t_list:\n",
    "    thread.join()\n",
    "\n",
    "end = time.time()\n",
    "print('执行时间为:%.2f' % (end-start))"
   ]
  },
  {
   "cell_type": "code",
   "execution_count": 42,
   "metadata": {
    "collapsed": true
   },
   "outputs": [
    {
     "name": "stdout",
     "output_type": "stream",
     "text": [
      "请输入你要爬取的贴吧名称：迪丽热巴\n",
      "---第1页正在抓取---\n",
      "---第2页正在抓取---\n",
      "---第3页正在抓取---\n",
      "---第4页正在抓取---\n",
      "---第5页正在抓取---\n",
      "---第6页正在抓取---\n",
      "---第7页正在抓取---\n",
      "---第8页正在抓取---\n",
      "---第9页正在抓取---\n",
      "---第10页正在抓取---\n",
      "---第11页正在抓取---\n",
      "---第12页正在抓取---\n",
      "---第13页正在抓取---\n",
      "---第14页正在抓取---\n",
      "---第15页正在抓取---\n",
      "---第16页正在抓取---\n",
      "---第17页正在抓取---\n",
      "---第18页正在抓取---\n",
      "---第19页正在抓取---\n",
      "---第20页正在抓取---\n",
      "---第21页正在抓取---\n",
      "---第22页正在抓取---\n",
      "---第23页正在抓取---\n",
      "---第24页正在抓取---\n",
      "---第25页正在抓取---\n",
      "---第26页正在抓取---\n",
      "---第27页正在抓取---\n",
      "---第28页正在抓取---\n",
      "---第29页正在抓取---\n",
      "---第30页正在抓取---\n",
      "---第31页正在抓取---\n",
      "---第32页正在抓取---\n",
      "---第33页正在抓取---\n",
      "---第34页正在抓取---\n",
      "---第35页正在抓取---\n",
      "---第36页正在抓取---\n",
      "---第37页正在抓取---\n",
      "---第38页正在抓取---\n",
      "---第39页正在抓取---\n",
      "---第40页正在抓取---\n",
      "---第41页正在抓取---\n",
      "---第42页正在抓取---\n",
      "---第43页正在抓取---\n",
      "---第44页正在抓取---\n",
      "---第45页正在抓取---\n",
      "---第46页正在抓取---\n",
      "---第47页正在抓取---\n",
      "---第48页正在抓取---\n",
      "---第49页正在抓取---\n",
      "---第50页正在抓取---\n",
      "---第24页抓取成功---\n",
      "---第1页抓取成功---\n",
      "---第3页抓取成功---\n",
      "---第43页抓取成功---\n",
      "---第49页抓取成功---\n",
      "---第9页抓取成功---\n",
      "---第27页抓取成功---\n",
      "---第5页抓取成功---\n",
      "---第47页抓取成功---\n",
      "---第28页抓取成功---\n",
      "---第40页抓取成功---\n",
      "---第23页抓取成功---\n",
      "---第46页抓取成功---\n",
      "---第25页抓取成功---\n",
      "---第30页抓取成功---\n",
      "---第50页抓取成功---\n",
      "---第26页抓取成功---\n",
      "---第16页抓取成功---\n",
      "---第17页抓取成功---\n",
      "---第38页抓取成功---\n",
      "---第18页抓取成功---\n",
      "---第37页抓取成功---\n",
      "---第41页抓取成功---\n",
      "---第45页抓取成功---\n",
      "---第21页抓取成功---\n",
      "---第42页抓取成功---\n",
      "---第31页抓取成功---\n",
      "---第6页抓取成功---\n",
      "---第12页抓取成功---\n",
      "---第10页抓取成功---\n",
      "---第11页抓取成功---\n",
      "---第13页抓取成功---\n",
      "---第22页抓取成功---\n",
      "---第19页抓取成功---\n",
      "---第29页抓取成功---\n",
      "---第39页抓取成功---\n",
      "---第48页抓取成功---\n",
      "---第36页抓取成功---\n",
      "---第15页抓取成功---\n",
      "---第44页抓取成功---\n",
      "---第32页抓取成功---\n",
      "---第33页抓取成功---\n",
      "---第20页抓取成功---\n",
      "---第2页抓取成功---\n",
      "---第7页抓取成功---\n",
      "---第35页抓取成功---\n",
      "---第4页抓取成功---\n",
      "---第14页抓取成功---\n",
      "---第8页抓取成功---\n",
      "---第34页抓取成功---\n",
      "执行时间为:8.90\n"
     ]
    }
   ],
   "source": [
    "import time\n",
    "import multiprocessing\n",
    "# 首先确认是否是静态页面不是动态js请求的\n",
    "start = time.time()\n",
    "url = 'http://tieba.baidu.com/f?kw={}&pn={}'\n",
    "name = input('请输入你要爬取的贴吧名称：')\n",
    "name_quote = urllib.parse.quote(name)\n",
    "\n",
    "url_list = []\n",
    "for i in range(50):\n",
    "    num = i * 50\n",
    "    full_url = url.format(name_quote,str(num))\n",
    "    url_list.append(full_url)\n",
    "    \n",
    "# 编写线程的target函数\n",
    "def tieba_spider(url,name,num):\n",
    "    req = urllib.request.Request(\n",
    "        url=url,\n",
    "        headers={\n",
    "            'User-Agent':'Mozilla/5.0 (Windows NT 6.1; WOW64) AppleWebKit/535.1 (KHTML, like Gecko) Chrome/14.0.835.163 Safari/535.1'\n",
    "        }\n",
    "    )\n",
    "    res = urllib.request.urlopen(req)\n",
    "    html = res.read().decode()\n",
    "    with open('{}_{}.html'.format(name,num),'w') as f:\n",
    "        f.write(html)\n",
    "    print('---第{}页抓取成功---'.format(num))\n",
    "    \n",
    "\n",
    "# 人为仿造请求对象并返回数据保存  使用多线程实现\n",
    "p_list = []\n",
    "for i,true_url in enumerate(url_list):\n",
    "    print('---第{}页正在抓取---'.format(i+1))\n",
    "    p = multiprocessing.Process(target=tieba_spider, args=(true_url,name,i+1))\n",
    "    p_list.append(p)\n",
    "    p.start()\n",
    "    \n",
    "\n",
    "for process in p_list:\n",
    "    process.join()\n",
    "\n",
    "end = time.time()\n",
    "print('执行时间为:%.2f' % (end-start))"
   ]
  },
  {
   "cell_type": "markdown",
   "metadata": {},
   "source": [
    "### 正则模块 re 爬虫专用的非贪婪模式的使用"
   ]
  },
  {
   "cell_type": "code",
   "execution_count": 53,
   "metadata": {},
   "outputs": [
    {
     "name": "stdout",
     "output_type": "stream",
     "text": [
      "['九霄龙吟惊天变</p></div>\\n<div><p>风云际会浅水游']\n",
      "['九霄龙吟惊天变', '风云际会浅水游']\n"
     ]
    }
   ],
   "source": [
    "import re\n",
    "\n",
    "# re.S 用来让 '.' 占位符匹配\\n  不指定则不匹配\n",
    "# pattern = re.compile(r'',re.S)\n",
    "\n",
    "# 贪婪匹配\n",
    "html = '''\n",
    "<div><p>九霄龙吟惊天变</p></div>\n",
    "<div><p>风云际会浅水游</p></div>\n",
    "'''\n",
    "pattern = re.compile(r'<div><p>(.*)</p></div>', re.S)\n",
    "result = pattern.findall(html)\n",
    "print(result)\n",
    "\n",
    "# 非贪婪匹配 -> 爬虫专用\n",
    "pattern = re.compile(r'<div><p>(.*?)</p></div>', re.S)\n",
    "result = pattern.findall(html)\n",
    "print(result)"
   ]
  },
  {
   "cell_type": "code",
   "execution_count": 59,
   "metadata": {},
   "outputs": [
    {
     "name": "stdout",
     "output_type": "stream",
     "text": [
      "['A B', 'C D']\n",
      "['A', 'C']\n",
      "[('A', 'B'), ('C', 'D')]\n"
     ]
    }
   ],
   "source": [
    "import re\n",
    "\n",
    "s = 'A B C D'\n",
    "p1 = re.compile('\\w+\\s+\\w+')\n",
    "print(p1.findall(s))\n",
    "\n",
    "p2 = re.compile('(\\w+)\\s+\\w+')\n",
    "print(p2.findall(s))\n",
    "\n",
    "p3 = re.compile('(\\w+)\\s+(\\w+)')\n",
    "print(p3.findall(s))"
   ]
  },
  {
   "cell_type": "code",
   "execution_count": 67,
   "metadata": {},
   "outputs": [
    {
     "name": "stdout",
     "output_type": "stream",
     "text": [
      "动物名称: Tiger\n",
      "动物描述: Two tigers two tigers run fast\n",
      "动物名称: Rabbit\n",
      "动物描述: Small white rabbit white and white\n"
     ]
    }
   ],
   "source": [
    "html = \"\"\"<div class=\"animal\">\n",
    "<div class=\"animal\">\n",
    "    <p class=\"name\">\n",
    "\t\t<a title=\"Tiger\"></a>\n",
    "    </p>\n",
    "    <p class=\"content\">\n",
    "\t\tTwo tigers two tigers run fast\n",
    "    </p>\n",
    "</div>\n",
    "\n",
    "<div class=\"animal\">\n",
    "    <p class=\"name\">\n",
    "\t\t<a title=\"Rabbit\"></a>\n",
    "    </p>\n",
    "\n",
    "    <p class=\"content\">\n",
    "\t\tSmall white rabbit white and white\n",
    "    </p>\n",
    "</div>\"\"\"\n",
    "\n",
    "pattern = re.compile(r'.*?title=\"(.*?)\".*?content\">(.*?)</p>', re.S)\n",
    "result = pattern.findall(html)\n",
    "result = [(tup[0],tup[1].strip()) for tup in result]\n",
    "for animal,detail in result:\n",
    "    print('动物名称:',animal)\n",
    "    print('动物描述:',detail)"
   ]
  },
  {
   "cell_type": "markdown",
   "metadata": {},
   "source": [
    "### 使用多进程爬取猫眼电影-榜单-top100榜的电影名称、主演、上演时间"
   ]
  },
  {
   "cell_type": "markdown",
   "metadata": {},
   "source": [
    "#### 第一步：获取前10个页面"
   ]
  },
  {
   "cell_type": "code",
   "execution_count": 2,
   "metadata": {},
   "outputs": [
    {
     "name": "stdout",
     "output_type": "stream",
     "text": [
      "第1页正在爬取\n",
      "第1页爬取成功\n",
      "第2页正在爬取\n",
      "第2页爬取成功\n",
      "第3页正在爬取\n",
      "第3页爬取成功\n",
      "第4页正在爬取\n",
      "第4页爬取成功\n",
      "第5页正在爬取\n",
      "第5页爬取成功\n",
      "第6页正在爬取\n",
      "第6页爬取成功\n",
      "第7页正在爬取\n",
      "第7页爬取成功\n",
      "第8页正在爬取\n",
      "第9页正在爬取\n",
      "第8页爬取成功\n",
      "第9页爬取成功\n",
      "第10页正在爬取\n",
      "第10页爬取成功\n",
      "耗费时间:5.34\n"
     ]
    }
   ],
   "source": [
    "import multiprocessing\n",
    "import random\n",
    "import time\n",
    "import urllib\n",
    "\n",
    "start = time.time()\n",
    "# 随机user-agent 列表\n",
    "user_agent_list = [\n",
    "    'Mozilla/5.0 (Windows NT 6.1; WOW64) AppleWebKit/535.1 (KHTML, like Gecko) Chrome/14.0.835.163 Safari/535.1',\n",
    "    'Mozilla/5.0 (Windows NT 6.1; WOW64; rv:6.0) Gecko/20100101 Firefox/6.0',\n",
    "    'Opera/9.80 (Windows NT 6.1; U; zh-cn) Presto/2.9.168 Version/11.50',\n",
    "    'Mozilla/4.0 (compatible; MSIE 8.0; Windows NT 5.1; Trident/4.0; GTB7.0'\n",
    "]\n",
    "\n",
    "# 获取所有的url列表\n",
    "url = 'https://maoyan.com/board/4?offset={}'\n",
    "url_list = []\n",
    "for num in range(10):\n",
    "    offset = num * 10\n",
    "    full_url = url.format(offset)\n",
    "    url_list.append(full_url)\n",
    "    \n",
    "# 进程的target函数\n",
    "def spider(url,num):\n",
    "    req = urllib.request.Request(\n",
    "        url=url,\n",
    "        headers={\n",
    "            'User-Agent':random.choice(user_agent_list)\n",
    "        }\n",
    "    )\n",
    "    res = urllib.request.urlopen(req)\n",
    "    html = res.read().decode()\n",
    "    with open('猫眼电影_{}'.format(num), 'w') as f:\n",
    "        f.write(html)\n",
    "    print('第{}页爬取成功'.format(num))\n",
    "\n",
    "# 多进程列表\n",
    "p_list = []\n",
    "for i in range(10):\n",
    "    print('第{}页正在爬取'.format(i+1))\n",
    "    time.sleep(random.random())\n",
    "    p = multiprocessing.Process(target=spider,args=(url_list[i],i+1))\n",
    "    p_list.append(p)\n",
    "    p.start()\n",
    "    \n",
    "# 释放进程资源\n",
    "for process in p_list:\n",
    "    process.join()\n",
    "    \n",
    "end = time.time()\n",
    "print('耗费时间:%.2f'%(end-start))"
   ]
  },
  {
   "cell_type": "markdown",
   "metadata": {},
   "source": [
    "#### 第二步：从文件中匹配需要的内容：电影名称、主演、上映时间"
   ]
  },
  {
   "cell_type": "code",
   "execution_count": 95,
   "metadata": {},
   "outputs": [],
   "source": [
    "# 编写pattern匹配数据\n",
    "pattern_movie = re.compile(r'.*?title=\"(.*?)\".*?\"star\">(.*?)</p>.*?(上映时间：.*?)</p>', re.S)\n",
    "movie_detail = []\n",
    "for i in range(1,11):\n",
    "    with open('猫眼电影_{}'.format(i),'r') as f_read:\n",
    "        string = f_read.read()\n",
    "        movie_detail.extend(pattern_movie.findall(string))\n",
    "\n",
    "# 清洗数据\n",
    "movie_detail = [ (('名称:'+tup[0]),tup[1].strip(),tup[2]) for tup in movie_detail]\n",
    "movie_detail = ['    '.join(_) for _ in movie_detail]\n",
    "\n",
    "# 将列表数据写入到文件中\n",
    "with open('cat`s_eye_movie_detail','w') as f:\n",
    "    for i,movie in enumerate(movie_detail):\n",
    "        string = '第{}名'.format(i+1).center(10) + movie + '\\n'\n",
    "        f.write(string)"
   ]
  },
  {
   "cell_type": "markdown",
   "metadata": {},
   "source": [
    "#### 第三步：将内容存储在csv文件中"
   ]
  },
  {
   "cell_type": "code",
   "execution_count": 31,
   "metadata": {},
   "outputs": [
    {
     "name": "stdout",
     "output_type": "stream",
     "text": [
      "[('霸王别姬', '张国荣,张丰毅,巩俐', '1993-01-01'), ('肖申克的救赎', '蒂姆·罗宾斯,摩根·弗里曼,鲍勃·冈顿', '1994-09-10'), ('罗马假日', '格利高里·派克,奥黛丽·赫本,埃迪·艾伯特', '1953-09-02'), ('这个杀手不太冷', '让·雷诺,加里·奥德曼,娜塔莉·波特曼', '1994-09-14'), ('泰坦尼克号', '莱昂纳多·迪卡普里奥,凯特·温丝莱特,比利·赞恩', '1998-04-03'), ('唐伯虎点秋香', '周星驰,巩俐,郑佩佩', '1993-07-01'), ('魂断蓝桥', '费雯·丽,罗伯特·泰勒,露塞尔·沃特森', '1940-05-17'), ('乱世佳人', '费雯·丽,克拉克·盖博,奥利维娅·德哈维兰', '1939-12-15'), ('天空之城', '寺田农,鹫尾真知子,龟山助清', '1992-05-01'), ('辛德勒的名单', '连姆·尼森,拉尔夫·费因斯,本·金斯利', '1993-12-15'), ('喜剧之王', '周星驰,莫文蔚,张柏芝', '1999-02-13'), ('音乐之声', '朱莉·安德鲁斯,克里斯托弗·普卢默,埃琳诺·帕克', '1965-03-02'), ('大闹天宫', '邱岳峰,毕克,富润生', '1965-12-31'), ('春光乍泄', '张国荣,梁朝伟,张震', '1997-05-30'), ('剪刀手爱德华', '约翰尼·德普,薇诺娜·瑞德,黛安·韦斯特', '1990-12-06'), ('海上钢琴师', '蒂姆·罗斯,普路特·泰勒·文斯,比尔·努恩', '1998-10-28'), ('美丽人生', '罗伯托·贝尼尼,尼可莱塔·布拉斯基,乔治·坎塔里尼', '1997-12-20'), ('黑客帝国', '基努·里维斯,凯瑞-安·莫斯,劳伦斯·菲什伯恩', '2000-01-14'), ('哈利·波特与魔法石', '丹尼尔·雷德克里夫,鲁伯特·格林特,艾玛·沃特森', '2002-01-26'), ('指环王3：王者无敌', '伊莱贾·伍德,伊恩·麦克莱恩,丽芙·泰勒', '2004-03-15'), ('蝙蝠侠：黑暗骑士', '克里斯蒂安·贝尔,希斯·莱杰,阿伦·伊克哈特', '2008-07-18'), ('无间道', '刘德华,梁朝伟,黄秋生', '2003-09-05'), ('楚门的世界', '金·凯瑞,劳拉·琳妮,诺亚·艾默里奇', '1998-06-01'), ('加勒比海盗', '约翰尼·德普,凯拉·奈特莉,奥兰多·布鲁姆', '2003-11-21'), ('射雕英雄传之东成西就', '张国荣,梁朝伟,张学友', '1993-02-05'), ('教父2', '阿尔·帕西诺,罗伯特·德尼罗,黛安·基顿', '1974-12-12'), ('机器人总动员', '本·贝尔特,艾丽莎·奈特,杰夫·格尔林', '2008-06-27'), ('指环王1：护戒使者', '伊莱贾·伍德,伊恩·麦克莱恩,丽芙·泰勒', '2002-04-04'), ('指环王2：双塔奇兵', '伊莱贾·伍德,伊恩·麦克莱恩,丽芙·泰勒', '2003-04-25'), ('狮子王', '马修·布罗德里克,尼基塔·卡兰姆,詹姆斯·厄尔·琼斯', '1995-07-15'), ('活着', '葛优,巩俐,牛犇', '1994-05-18'), ('拯救大兵瑞恩', '汤姆·汉克斯,马特·达蒙,汤姆·塞兹摩尔', '1998-11-13'), ('盗梦空间', '莱昂纳多·迪卡普里奥,渡边谦,约瑟夫·高登-莱维特', '2010-09-01'), ('哈尔的移动城堡', '倍赏千惠子,木村拓哉,美轮明宏', '2004-11-20'), ('忠犬八公的故事', 'Forest,理查·基尔,琼·艾伦', '2010-03-12'), ('疯狂原始人', '尼古拉斯·凯奇,艾玛·斯通,瑞安·雷诺兹', '2013-04-20'), ('搏击俱乐部', '爱德华·哈里森·诺顿,布拉德·皮特,海伦娜·伯翰·卡特', '1999-10-15'), ('东邪西毒', '张国荣,梁朝伟,刘嘉玲', '1994-09-17'), ('幽灵公主', '松田洋治,石田百合子,田中裕子', '1998-05-01'), ('阿凡达', '萨姆·沃辛顿,佐伊·索尔达娜,米歇尔·罗德里格兹', '2010-01-04'), ('风之谷', '岛本须美,永井一郎,坂本千夏', '1992'), ('十二怒汉', '亨利·方达,李·科布,马丁·鲍尔萨姆', '1957-04-13'), ('V字仇杀队', '娜塔莉·波特曼,雨果·维文,斯蒂芬·瑞', '2006-03-17'), ('当幸福来敲门', '威尔·史密斯,贾登·史密斯,坦迪·牛顿', '2008-01-17'), ('速度与激情5', '范·迪塞尔,保罗·沃克,道恩·强森', '2011-05-12'), ('驯龙高手', '杰伊·巴鲁切尔,杰拉德·巴特勒,亚美莉卡·费雷拉', '2010-05-14'), ('放牛班的春天', '热拉尔·朱尼奥,让-巴蒂斯特·莫尼耶,玛丽·布奈尔', '2004-10-16'), ('勇敢的心', '梅尔·吉布森,苏菲·玛索,帕特里克·麦高汉', '1995-05-24'), ('神偷奶爸', '史蒂夫·卡瑞尔,杰森·席格尔,拉塞尔·布兰德', '2010-07-09'), ('闻香识女人', '阿尔·帕西诺,克里斯·奥唐纳,加布里埃尔·安瓦尔', '1992-12-23'), ('飞屋环游记', '爱德华·阿斯纳,乔丹·长井,鲍勃·彼德森', '2009-08-04'), ('怦然心动', '玛德琳·卡罗尔,卡兰·麦克奥利菲,艾丹·奎因', '2010-08-06'), ('断背山', '希斯·莱杰,杰克·吉伦哈尔,米歇尔·威廉姆斯', '2006-01-13'), ('三傻大闹宝莱坞', '阿米尔·汗,黄渤,卡琳娜·卡普', '2011-12-08'), ('黑客帝国3：矩阵革命', '基努·里维斯,雨果·维文,凯瑞-安·莫斯', '2003-11-05'), ('末代皇帝', '尊龙,陈冲,彼得·奥图尔', '1987-10-23'), ('少年派的奇幻漂流', '苏拉·沙玛,伊尔凡·可汗,塔布', '2012-11-22'), ('鬼子来了', '姜文,姜宏波,陈强', '2000-05-12'), ('大话西游之月光宝盒', '周星驰,莫文蔚,吴孟达', '2014-10-24'), ('致命魔术', '休·杰克曼,克里斯蒂安·贝尔,迈克尔·凯恩', '2006-10-20'), ('蝙蝠侠：黑暗骑士崛起', '克里斯蒂安·贝尔,迈克尔·凯恩,加里·奥德曼', '2012-08-27'), ('美丽心灵', '罗素·克洛,詹妮弗·康纳利,艾德·哈里斯', '2001-12-21'), ('哈利·波特与死亡圣器（下）', '丹尼尔·雷德克里夫,鲁伯特·格林特,艾玛·沃特森', '2011-08-04'), ('无敌破坏王', '约翰·C·赖利,萨拉·西尔弗曼,简·林奇', '2012-11-06'), ('倩女幽魂', '张国荣,王祖贤,午马', '2011-04-30'), ('夜访吸血鬼', '汤姆·克鲁斯,布拉德·皮特,克尔斯滕·邓斯特', '1994-11-11'), ('钢琴家', '艾德里安·布洛迪,艾米莉娅·福克斯,米哈乌·热布罗夫斯基', '2002-09-25'), ('本杰明·巴顿奇事', '布拉德·皮特,凯特·布兰切特,塔拉吉·P·汉森', '2008-12-25'), ('甜蜜蜜', '黎明,张曼玉,曾志伟', '2015-02-13'), ('初恋这件小事', '马里奥·毛瑞尔,平采娜·乐维瑟派布恩,阿查拉那·阿瑞亚卫考', '2012-06-05'), ('熔炉', '孔刘,郑有美,金智英', '2011-09-22'), ('触不可及', '弗朗索瓦·克鲁塞,奥玛·希,安娜·勒尼', '2011-11-02'), ('新龙门客栈', '张曼玉,梁家辉,甄子丹', '2012-02-24'), ('素媛', '李来,薛耿求,严志媛', '2013-10-02'), ('小鞋子', '默罕默德·阿米尔·纳吉,Kamal Mirkarimi,Behzad Rafi', '1999-01-22'), ('大话西游之大圣娶亲', '周星驰,朱茵,莫文蔚', '2014-10-24'), ('萤火之森', '内山昂辉,佐仓绫音,后藤弘树', '2011-09-17'), ('教父', '马龙·白兰度,阿尔·帕西诺,詹姆斯·肯恩', '2015-04-18'), ('穿条纹睡衣的男孩', '阿沙·巴特菲尔德,维拉·法梅加,大卫·休里斯', '2008-09-12'), ('时空恋旅人', '瑞秋·麦克亚当斯,多姆纳尔·格里森,比尔·奈伊', '2013-09-04'), ('窃听风暴', '乌尔里希·穆埃,塞巴斯蒂安·科赫,马蒂娜·格德克', '2006-03-23'), ('7号房的礼物', '柳承龙,郑镇荣,朴信惠', '2013-01-23'), ('恐怖直播', '河正宇,李璟荣,李大为', '2013-07-31'), ('海豚湾', '里克·奥巴瑞,路易·西霍尤斯,哈迪·琼斯', '2009-07-31'), ('忠犬八公物语', '仲代达矢,春川真澄,井川比佐志', '1987-08-01'), ('上帝之城', '亚历桑德雷·罗德里格斯,艾莉丝·布拉加,莱安德鲁·菲尔米诺', '2002-08-30'), ('美国往事', '罗伯特·德尼罗,詹姆斯·伍兹,伊丽莎白·麦戈文', '2015-04-23'), ('完美的世界', '凯文·科斯特纳,克林特·伊斯特伍德,T·J·劳瑟', '1993-11-24'), ('七武士', '三船敏郎,志村乔,千秋实', '1954-04-26'), ('一一', '吴念真,金燕玲,李凯莉', '2000-09-20'), ('英雄本色', '狄龙,张国荣,周润发', '2017-11-17'), ('阿飞正传', '张国荣,张曼玉,刘德华', '2018-06-25'), ('爱·回家', '俞承豪,金艺芬,童孝熙', '2002-04-05'), ('海洋', '雅克·贝汉,姜文,兰斯洛特·佩林', '2011-08-12'), ('我爱你', '宋在浩,李顺才,尹秀晶', '2011-02-17'), ('黄金三镖客', '克林特·伊斯特伍德,李·范·克里夫,埃里·瓦拉赫', '1966-12-23'), ('迁徙的鸟', '雅克·贝汉,Philippe Labro', '2001-12-12'), ('千与千寻', '柊瑠美,周冬雨,入野自由', '2019-06-21'), ('天堂电影院', '菲利浦·诺瓦雷,赛尔乔·卡斯特利托,蒂兹亚娜·罗达托', '2019-06-15'), ('龙猫', '秦岚,糸井重里,岛本须美', '2018-12-14')]\n"
     ]
    }
   ],
   "source": [
    "import re\n",
    "import csv\n",
    "\n",
    "\n",
    "# 编写pattern匹配数据\n",
    "pattern_movie = re.compile(r'.*?title=\"(.*?)\".*?\"star\">(.*?)</p>.*?(上映时间：.*?)</p>', re.S)\n",
    "movie_detail = []\n",
    "for i in range(1,11):\n",
    "    with open('猫眼电影_{}'.format(i),'r') as f_read:\n",
    "        string = f_read.read()\n",
    "        movie_detail.extend(pattern_movie.findall(string))\n",
    "\n",
    "# 数据清洗\n",
    "movie_detail = [(tup[0].strip(), tup[1].strip()[3:], tup[2].strip()[5:15]) for tup in movie_detail]\n",
    "\n",
    "# 将数据存储为csv文件\n",
    "with open('cat`s_eye_movie_detail.csv','w') as f:\n",
    "    writer = csv.writer(f)\n",
    "    writer.writerow(['电影名称','主演','上映时间'])\n",
    "    writer.writerows(movie_detail)\n",
    "#     for row in movie_detail:\n",
    "#         writer.writerow(row)\n",
    "print(movie_detail)\n"
   ]
  },
  {
   "cell_type": "markdown",
   "metadata": {},
   "source": [
    "#### 第四步：将csv文件存储到数据库中"
   ]
  },
  {
   "cell_type": "code",
   "execution_count": 28,
   "metadata": {},
   "outputs": [
    {
     "name": "stdout",
     "output_type": "stream",
     "text": [
      "CPU times: user 3.42 ms, sys: 4.15 ms, total: 7.57 ms\n",
      "Wall time: 18.2 ms\n"
     ]
    }
   ],
   "source": [
    "import pymysql\n",
    "import time\n",
    "\n",
    "# 连接mysql，并编写sql语句\n",
    "db = pymysql.connect('localhost','root','123456','spider',use_unicode=True,charset='utf8')\n",
    "insert_sql = 'insert into movie(name,actor,show_time) values(%s,%s,%s)'\n",
    "cursor = db.cursor()\n",
    "\n",
    "# csv读取文件到列表\n",
    "movie_list = []\n",
    "with open('cat`s_eye_movie_detail.csv','r') as f:\n",
    "    reader = csv.reader(f)\n",
    "    header = next(reader)\n",
    "    for row in reader:\n",
    "        movie_list.append(row)\n",
    "\n",
    "# 将列表数据保存到数据库表movie中\n",
    "# 使用execute_many 对比 execute 效率\n",
    "try:\n",
    "    \n",
    "    %time cursor.executemany(insert_sql,movie_list)\n",
    "except Exception as e:\n",
    "    print(e)\n",
    "    db.rollback()\n",
    "    \n",
    "# 提交数据并删除指针        \n",
    "db.commit()\n",
    "cursor.close()\n",
    "db.close()"
   ]
  },
  {
   "cell_type": "markdown",
   "metadata": {},
   "source": [
    "#### 第四步：存储数据到mongodb"
   ]
  },
  {
   "cell_type": "code",
   "execution_count": 32,
   "metadata": {},
   "outputs": [],
   "source": [
    "import pymongo\n",
    "\n",
    "# 连接对象\n",
    "con = pymongo.MongoClient('localhost',27017)\n",
    "\n",
    "# 库对象 不存在自动创建\n",
    "db = con['spider']\n",
    "\n",
    "# 集合对象\n",
    "my_set = db['maoyan']\n",
    "\n",
    "for movie in movie_detail:\n",
    "    my_set.insert_one({'name':movie[0],'actors':movie[1],'time':movie[2]})"
   ]
  },
  {
   "cell_type": "raw",
   "metadata": {},
   "source": [
    "mongo常用操作\n",
    "\n",
    "show dbs/databases 查看数据库\n",
    "use 库名\n",
    "show collections/tables 查看集合\n",
    "db.集合名.find()"
   ]
  }
 ],
 "metadata": {
  "kernelspec": {
   "display_name": "Python 3",
   "language": "python",
   "name": "python3"
  },
  "language_info": {
   "codemirror_mode": {
    "name": "ipython",
    "version": 3
   },
   "file_extension": ".py",
   "mimetype": "text/x-python",
   "name": "python",
   "nbconvert_exporter": "python",
   "pygments_lexer": "ipython3",
   "version": "3.6.8"
  }
 },
 "nbformat": 4,
 "nbformat_minor": 2
}
