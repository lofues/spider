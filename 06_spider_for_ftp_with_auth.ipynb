{
 "cells": [
  {
   "cell_type": "code",
   "execution_count": 9,
   "metadata": {},
   "outputs": [
    {
     "name": "stdout",
     "output_type": "stream",
     "text": [
      "第6个zip正在抓取\n",
      "第6个zip抓取成功\n",
      "第7个zip正在抓取\n",
      "第7个zip抓取成功\n",
      "第8个zip正在抓取\n",
      "第8个zip抓取成功\n",
      "第9个zip正在抓取\n",
      "第9个zip抓取成功\n",
      "第10个zip正在抓取\n",
      "第10个zip抓取成功\n",
      "CPU times: user 250 ms, sys: 39.5 ms, total: 290 ms\n",
      "Wall time: 58.9 s\n"
     ]
    }
   ],
   "source": [
    "%%time\n",
    "import time\n",
    "from fake_useragent import UserAgent\n",
    "from urllib import parse\n",
    "import os\n",
    "import requests\n",
    "from lxml import etree\n",
    "\n",
    "ua = UserAgent()\n",
    "\n",
    "class SpiderFtp(object):\n",
    "    def __init__(self):\n",
    "        self.url = 'http://code.tarena.com.cn/AIDCode/aid1906/14Spider/'\n",
    "        self.auth = ('tarenacode','code_2013')\n",
    "        \n",
    "    def save_file(self):\n",
    "        html = requests.get(\n",
    "            url=self.url,\n",
    "            headers={\n",
    "                'User-Agent':ua.random\n",
    "            },\n",
    "            auth=self.auth\n",
    "        ).text\n",
    "        lxml_html = etree.HTML(html)\n",
    "        href_list = lxml_html.xpath('//a/@href')\n",
    "        filedir = '/home/tarena/zip'\n",
    "        if not os.path.exists(filedir):\n",
    "            os.makedirs(filedir)\n",
    "        for i,href in enumerate(href_list):\n",
    "            if href.endswith('.zip') or href.endswith('.rar'):\n",
    "                print('第{}个zip正在抓取'.format(i+1))\n",
    "                file_url = self.url + href\n",
    "                filename = filedir + '/' + href\n",
    "                self.save_zip(file_url,filename)\n",
    "                print('第{}个zip抓取成功'.format(i+1))\n",
    "                \n",
    "    def save_zip(self,file_url,filename):\n",
    "        content = requests.get(url=file_url,\n",
    "                              auth=self.auth,\n",
    "                              headers={'User-Agent':ua.random}).content\n",
    "        with open(filename,'wb') as f:\n",
    "            f.write(content)\n",
    "            \n",
    "    def run(self):\n",
    "        self.save_file()\n",
    "        \n",
    "spider = SpiderFtp()\n",
    "spider.run()\n",
    "        "
   ]
  }
 ],
 "metadata": {
  "kernelspec": {
   "display_name": "Python 3",
   "language": "python",
   "name": "python3"
  },
  "language_info": {
   "codemirror_mode": {
    "name": "ipython",
    "version": 3
   },
   "file_extension": ".py",
   "mimetype": "text/x-python",
   "name": "python",
   "nbconvert_exporter": "python",
   "pygments_lexer": "ipython3",
   "version": "3.6.8"
  }
 },
 "nbformat": 4,
 "nbformat_minor": 2
}
