{
 "cells": [
  {
   "cell_type": "code",
   "execution_count": 3,
   "metadata": {},
   "outputs": [
    {
     "name": "stdout",
     "output_type": "stream",
     "text": [
      "请输入要翻译的单词:哈哈\n",
      "翻译为: Ha ha\n"
     ]
    }
   ],
   "source": [
    "import requests\n",
    "import time\n",
    "import random\n",
    "from hashlib import md5\n",
    "\n",
    "class YdSpider(object):\n",
    "    def __init__(self):\n",
    "        self.url = 'http://fanyi.youdao.com/translate_o?smartresult=dict&smartresult=rule'\n",
    "        # 分析xml的请求头\n",
    "        self.headers = {\n",
    "            \"Cookie\": \"P_INFO=junfuwang@163.com|1568789164|0|other|00&99|bej&1568617539&carddav#bej&null#10#0#0|&0|urs&mail163&study|junfuwang@163.com; OUTFOX_SEARCH_USER_ID=-1267527955@10.169.0.83; OUTFOX_SEARCH_USER_ID_NCOO=779609782.02059; JSESSIONID=aaaNDLvNv_dJbaWe8Cn3w; ___rl__test__cookies=1571131622891\",\n",
    "            \"Referer\": \"http://fanyi.youdao.com/\",\n",
    "            \"User-Agent\": \"Mozilla/5.0 (X11; Linux x86_64) AppleWebKit/537.36 (KHTML, like Gecko) Chrome/73.0.3683.75 Safari/537.36\",\n",
    "        }\n",
    "        # 使用代理ip\n",
    "        self.proxies= {\n",
    "            'http':'http://221.178.232.130:8080',\n",
    "            'https':'https://221.178.232.130:8080'\n",
    "        }\n",
    "    \n",
    "    # 获取ts,salt,sign\n",
    "    def get_ts_salt_sign(self,word):\n",
    "        # 分析有道的加密方法\n",
    "        ts = str(int(time.time()*1000))\n",
    "        salt = ts + str(random.randint(0,9))\n",
    "        string = \"fanyideskweb\" + word + salt + \"n%A-rKaT5fb[Gy?;N5@Tj\"\n",
    "        s = md5()\n",
    "        s.update(string.encode())\n",
    "        sign = s.hexdigest()\n",
    "        \n",
    "        return ts,salt,sign\n",
    "    \n",
    "    def attack_yd(self,word):\n",
    "        ts,salt,sign = self.get_ts_salt_sign(word)\n",
    "        # 模拟表单提交数据\n",
    "        data= {\n",
    "            'i': word,\n",
    "            'from': 'AUTO',\n",
    "            'to': 'AUTO',\n",
    "            'smartresult': 'dict',\n",
    "            'client': 'fanyideskweb',\n",
    "            'salt': salt,\n",
    "            'sign': sign,\n",
    "            'ts': ts,\n",
    "            'bv': '65313ac0ff6808a532a1d4971304070e',\n",
    "            'doctype': 'json',\n",
    "            'version': '2.1',\n",
    "            'keyfrom': 'fanyi.web',\n",
    "            'action': 'FY_BY_REALTlME'\n",
    "        }\n",
    "        json_obj = requests.post(url=self.url,data=data,headers=self.headers,proxies=self.proxies).json()\n",
    "#         print(type(json_obj))\n",
    "        print('翻译为:',json_obj['translateResult'][0][0]['tgt'])\n",
    "        \n",
    "    def run(self):\n",
    "        word = input('请输入要翻译的单词:')\n",
    "        self.attack_yd(word)\n",
    "        \n",
    "spider = YdSpider()\n",
    "spider.run()"
   ]
  },
  {
   "cell_type": "code",
   "execution_count": null,
   "metadata": {},
   "outputs": [],
   "source": []
  }
 ],
 "metadata": {
  "kernelspec": {
   "display_name": "Python 3",
   "language": "python",
   "name": "python3"
  },
  "language_info": {
   "codemirror_mode": {
    "name": "ipython",
    "version": 3
   },
   "file_extension": ".py",
   "mimetype": "text/x-python",
   "name": "python",
   "nbconvert_exporter": "python",
   "pygments_lexer": "ipython3",
   "version": "3.6.8"
  }
 },
 "nbformat": 4,
 "nbformat_minor": 2
}
